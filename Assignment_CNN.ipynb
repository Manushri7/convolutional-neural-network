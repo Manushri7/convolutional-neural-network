{
 "cells": [
  {
   "cell_type": "markdown",
   "metadata": {
    "id": "4MH4SI5VKI7x"
   },
   "source": []
  },
  {
   "cell_type": "markdown",
   "metadata": {
    "id": "J3rL9uViKKW5"
   },
   "source": [
    "# <b>CNN on Mnist Dataset</b>"
   ]
  },
  {
   "cell_type": "code",
   "execution_count": 229,
   "metadata": {
    "id": "30xekNCAQPwZ"
   },
   "outputs": [],
   "source": [
    "from __future__ import print_function\n",
    "import keras\n",
    "from keras.datasets import mnist\n",
    "from keras.models import Sequential\n",
    "from keras.layers import Dense, Dropout, Flatten\n",
    "from keras.layers import Conv2D, MaxPooling2D\n",
    "from keras import backend as K\n",
    "import tensorflow as tf\n",
    "from tensorflow.keras import utils\n",
    "from tensorflow.keras.datasets import mnist \n",
    "import seaborn as sns\n",
    "from tensorflow.keras.initializers import RandomNormal\n",
    "from tensorflow.python.keras import Input, Model\n",
    "from tensorflow.keras.layers import Dense, Activation \n",
    "from tensorflow.python.keras.layers import Dense, BatchNormalization\n",
    "from tensorflow.keras.models import Sequential \n",
    "%matplotlib notebook\n",
    "%matplotlib inline\n",
    "import matplotlib.pyplot as plt\n",
    "import numpy as np\n",
    "import time\n",
    "from keras.utils.np_utils import to_categorical\n",
    "\n",
    "\n",
    "\n",
    "from tensorflow.keras import utils as np_utils"
   ]
  },
  {
   "cell_type": "markdown",
   "metadata": {},
   "source": [
    "## 1.Data Loading"
   ]
  },
  {
   "cell_type": "code",
   "execution_count": 155,
   "metadata": {
    "id": "L2CyU5YsQdqG"
   },
   "outputs": [],
   "source": [
    "(X_train, y_train), (X_test, y_test) = mnist.load_data()"
   ]
  },
  {
   "cell_type": "code",
   "execution_count": 156,
   "metadata": {
    "colab": {
     "base_uri": "https://localhost:8080/"
    },
    "id": "SqClPAIpQeH1",
    "outputId": "f056c0b1-0dc5-46c1-beb4-4d664ce4a461"
   },
   "outputs": [
    {
     "data": {
      "text/plain": [
       "(60000, 28, 28)"
      ]
     },
     "execution_count": 156,
     "metadata": {},
     "output_type": "execute_result"
    }
   ],
   "source": [
    "# data is in 3d format\n",
    "X_train.shape"
   ]
  },
  {
   "cell_type": "code",
   "execution_count": 157,
   "metadata": {
    "colab": {
     "base_uri": "https://localhost:8080/"
    },
    "id": "8NYSGpBXZdes",
    "outputId": "1e36cf7a-eae1-44b6-e3cb-9cae0322a615"
   },
   "outputs": [
    {
     "name": "stdout",
     "output_type": "stream",
     "text": [
      "Number of training examples : 60000 and each image is of shape (28, 28)\n",
      "Number of training examples : 10000 and each image is of shape (28, 28)\n"
     ]
    }
   ],
   "source": [
    "print(\"Number of training examples :\", X_train.shape[0], \"and each image is of shape (%d, %d)\"%(X_train.shape[1], X_train.shape[2]))\n",
    "print(\"Number of training examples :\", X_test.shape[0], \"and each image is of shape (%d, %d)\"%(X_test.shape[1], X_test.shape[2]))"
   ]
  },
  {
   "cell_type": "code",
   "execution_count": 158,
   "metadata": {
    "colab": {
     "base_uri": "https://localhost:8080/",
     "height": 265
    },
    "id": "cMVkQ7ZfWdmJ",
    "outputId": "5408f449-db5b-4016-b042-ef2b4752f1f8"
   },
   "outputs": [
    {
     "data": {
      "image/png": "[encoded data removed]",
      "text/plain": [
       "<Figure size 432x288 with 1 Axes>"
      ]
     },
     "metadata": {
      "needs_background": "light"
     },
     "output_type": "display_data"
    }
   ],
   "source": [
    "sample = 1\n",
    "image = X_train[sample]\n",
    "\n",
    "\n",
    "# plot the sample\n",
    "fig = plt.figure\n",
    "plt.imshow(image, cmap='gray')\n",
    "plt.show()"
   ]
  },
  {
   "cell_type": "code",
   "execution_count": 159,
   "metadata": {
    "id": "DqbghOMbUVOv"
   },
   "outputs": [],
   "source": [
    "\n",
    "img_rows, img_cols = 28, 28\n",
    "\n",
    "# the data, split between train and test sets\n",
    "(x_train, y_train), (x_test, y_test) = mnist.load_data()\n",
    "\n",
    "if K.image_data_format() == 'channels_first':\n",
    "    x_train = x_train.reshape(x_train.shape[0], 1, img_rows, img_cols)\n",
    "    x_test = x_test.reshape(x_test.shape[0], 1, img_rows, img_cols)\n",
    "    input_shape = (1, img_rows, img_cols)\n",
    "else:\n",
    "    x_train = x_train.reshape(x_train.shape[0], img_rows, img_cols, 1)\n",
    "    x_test = x_test.reshape(x_test.shape[0], img_rows, img_cols, 1)\n",
    "    input_shape = (img_rows, img_cols, 1)"
   ]
  },
  {
   "cell_type": "code",
   "execution_count": 160,
   "metadata": {
    "colab": {
     "base_uri": "https://localhost:8080/"
    },
    "id": "aCjUq5FdUVRj",
    "outputId": "b67f90fd-6258-44a3-cfcb-c12473252baa"
   },
   "outputs": [
    {
     "name": "stdout",
     "output_type": "stream",
     "text": [
      "x_train shape: (60000, 28, 28, 1)\n",
      "60000 train samples\n",
      "10000 test samples\n"
     ]
    }
   ],
   "source": [
    "x_train = x_train.astype('float32')\n",
    "x_test = x_test.astype('float32')\n",
    "x_train /= 255\n",
    "x_test /= 255\n",
    "print('x_train shape:', x_train.shape)\n",
    "print(x_train.shape[0], 'train samples')\n",
    "print(x_test.shape[0], 'test samples')\n",
    "\n",
    "# convert class vectors to binary class matrices\n",
    "y_train = keras.utils.np_utils.to_categorical(y_train, num_classes)\n",
    "\n",
    "y_test = keras.utils.np_utils.to_categorical(y_test, num_classes)"
   ]
  },
  {
   "cell_type": "code",
   "execution_count": 161,
   "metadata": {
    "colab": {
     "base_uri": "https://localhost:8080/"
    },
    "id": "yrR1Qhqad-j0",
    "outputId": "aa958a52-9975-4cff-a5b3-10977ef6f286"
   },
   "outputs": [
    {
     "data": {
      "text/plain": [
       "(60000, 28, 28, 1)"
      ]
     },
     "execution_count": 161,
     "metadata": {},
     "output_type": "execute_result"
    }
   ],
   "source": [
    "x_train.shape"
   ]
  },
  {
   "cell_type": "markdown",
   "metadata": {},
   "source": [
    "## 2.Architecture 1"
   ]
  },
  {
   "cell_type": "code",
   "execution_count": 162,
   "metadata": {
    "id": "iKBkh1I5UVhr"
   },
   "outputs": [],
   "source": [
    "batch_size = 128\n",
    "num_classes = 10\n",
    "epochs = 12"
   ]
  },
  {
   "cell_type": "code",
   "execution_count": 178,
   "metadata": {
    "colab": {
     "base_uri": "https://localhost:8080/"
    },
    "id": "oieEmJaXUVlT",
    "outputId": "b3df0912-16b1-474f-db13-c375b8c976e3"
   },
   "outputs": [
    {
     "name": "stdout",
     "output_type": "stream",
     "text": [
      "Model: \"sequential_6\"\n",
      "_________________________________________________________________\n",
      "Layer (type)                 Output Shape              Param #   \n",
      "=================================================================\n",
      "conv2d_23 (Conv2D)           (None, 26, 26, 20)        200       \n",
      "_________________________________________________________________\n",
      "conv2d_24 (Conv2D)           (None, 24, 24, 10)        1810      \n",
      "_________________________________________________________________\n",
      "conv2d_25 (Conv2D)           (None, 23, 23, 20)        820       \n",
      "_________________________________________________________________\n",
      "max_pooling2d_5 (MaxPooling2 (None, 11, 11, 20)        0         \n",
      "_________________________________________________________________\n",
      "dropout (Dropout)            (None, 11, 11, 20)        0         \n",
      "_________________________________________________________________\n",
      "module_wrapper_12 (ModuleWra (None, 11, 11, 20)        80        \n",
      "_________________________________________________________________\n",
      "conv2d_26 (Conv2D)           (None, 9, 9, 5)           905       \n",
      "_________________________________________________________________\n",
      "conv2d_27 (Conv2D)           (None, 8, 8, 10)          210       \n",
      "_________________________________________________________________\n",
      "dropout_1 (Dropout)          (None, 8, 8, 10)          0         \n",
      "_________________________________________________________________\n",
      "flatten_4 (Flatten)          (None, 640)               0         \n",
      "_________________________________________________________________\n",
      "module_wrapper_13 (ModuleWra (None, 100)               64100     \n",
      "_________________________________________________________________\n",
      "module_wrapper_14 (ModuleWra (None, 10)                1010      \n",
      "=================================================================\n",
      "Total params: 69,135\n",
      "Trainable params: 69,095\n",
      "Non-trainable params: 40\n",
      "_________________________________________________________________\n"
     ]
    }
   ],
   "source": [
    "\n",
    "\n",
    "model1 = Sequential()\n",
    "\n",
    "model1.add(Conv2D(20, kernel_size=(3, 3),activation='relu',input_shape=input_shape))\n",
    "\n",
    "model1.add(Conv2D(filters=10, kernel_size = (3,3), activation=\"relu\"))\n",
    "model1.add(Conv2D(filters=20, kernel_size = (2,2), activation=\"relu\"))\n",
    "\n",
    "model1.add(MaxPooling2D(pool_size=(2,2)))\n",
    "model1.add(Dropout(0.5))\n",
    "model1.add(BatchNormalization())   \n",
    "\n",
    "model1.add(Conv2D(filters=5, kernel_size = (3,3), activation=\"relu\"))\n",
    "model1.add(Conv2D(filters=10, kernel_size = (2,2), activation=\"relu\"))\n",
    "model1.add(Dropout(0.5))\n",
    "model1.add(Flatten())\n",
    "\n",
    "model1.add(Dense(100,activation=\"relu\"))\n",
    "    \n",
    "model1.add(Dense(10,activation=\"softmax\"))\n",
    "    \n",
    "model1.compile(loss=\"categorical_crossentropy\", optimizer=\"adam\", metrics=[\"accuracy\"])\n",
    "\n",
    "model1.summary()\n",
    "\n",
    "\n"
   ]
  },
  {
   "cell_type": "code",
   "execution_count": 171,
   "metadata": {
    "id": "lG6LBbKflBsi"
   },
   "outputs": [],
   "source": [
    "tf.config.run_functions_eagerly(True)\n"
   ]
  },
  {
   "cell_type": "code",
   "execution_count": 179,
   "metadata": {
    "colab": {
     "base_uri": "https://localhost:8080/"
    },
    "id": "9bBavrrClevw",
    "outputId": "e9774aef-6cf6-4170-cf9d-ccae19515dd3"
   },
   "outputs": [
    {
     "name": "stderr",
     "output_type": "stream",
     "text": [
      "/usr/local/lib/python3.7/dist-packages/tensorflow/python/data/ops/dataset_ops.py:4212: UserWarning: Even though the `tf.config.experimental_run_functions_eagerly` option is set, this option does not apply to tf.data functions. To force eager execution of tf.data functions, please use `tf.data.experimental.enable_debug_mode()`.\n",
      "  \"Even though the `tf.config.experimental_run_functions_eagerly` \"\n"
     ]
    },
    {
     "name": "stdout",
     "output_type": "stream",
     "text": [
      "Epoch 1/12\n",
      "469/469 [==============================] - 101s 214ms/step - loss: 0.4657 - accuracy: 0.8501 - val_loss: 0.1199 - val_accuracy: 0.9760\n",
      "Epoch 2/12\n",
      "469/469 [==============================] - 101s 215ms/step - loss: 0.1425 - accuracy: 0.9562 - val_loss: 0.0548 - val_accuracy: 0.9831\n",
      "Epoch 3/12\n",
      "469/469 [==============================] - 100s 213ms/step - loss: 0.1075 - accuracy: 0.9667 - val_loss: 0.0448 - val_accuracy: 0.9852\n",
      "Epoch 4/12\n",
      "469/469 [==============================] - 100s 213ms/step - loss: 0.0947 - accuracy: 0.9705 - val_loss: 0.0472 - val_accuracy: 0.9849\n",
      "Epoch 5/12\n",
      "469/469 [==============================] - 100s 214ms/step - loss: 0.0836 - accuracy: 0.9741 - val_loss: 0.0350 - val_accuracy: 0.9888\n",
      "Epoch 6/12\n",
      "469/469 [==============================] - 101s 216ms/step - loss: 0.0752 - accuracy: 0.9765 - val_loss: 0.0392 - val_accuracy: 0.9874\n",
      "Epoch 7/12\n",
      "469/469 [==============================] - 100s 214ms/step - loss: 0.0682 - accuracy: 0.9790 - val_loss: 0.0323 - val_accuracy: 0.9894\n",
      "Epoch 8/12\n",
      "469/469 [==============================] - 99s 211ms/step - loss: 0.0624 - accuracy: 0.9803 - val_loss: 0.0307 - val_accuracy: 0.9908\n",
      "Epoch 9/12\n",
      "469/469 [==============================] - 99s 212ms/step - loss: 0.0602 - accuracy: 0.9805 - val_loss: 0.0302 - val_accuracy: 0.9906\n",
      "Epoch 10/12\n",
      "469/469 [==============================] - 100s 213ms/step - loss: 0.0537 - accuracy: 0.9824 - val_loss: 0.0325 - val_accuracy: 0.9897\n",
      "Epoch 11/12\n",
      "469/469 [==============================] - 100s 214ms/step - loss: 0.0551 - accuracy: 0.9822 - val_loss: 0.0290 - val_accuracy: 0.9908\n",
      "Epoch 12/12\n",
      "469/469 [==============================] - 101s 215ms/step - loss: 0.0499 - accuracy: 0.9838 - val_loss: 0.0281 - val_accuracy: 0.9903\n"
     ]
    }
   ],
   "source": [
    "history = model1.fit(x_train, y_train, batch_size=batch_size, epochs=epochs, verbose=1, validation_data=(x_test, y_test))"
   ]
  },
  {
   "cell_type": "code",
   "execution_count": 181,
   "metadata": {
    "id": "YukYE_NcIIXs"
   },
   "outputs": [],
   "source": [
    "\n",
    "# https://gist.github.com/greydanus/f6eee59eaf1d90fcb3b534a25362cea4\n",
    "# https://stackoverflow.com/a/14434334\n",
    "# this function is used to update the plots for each epoch and error\n",
    "def plt_dynamic(x, vy, ty, ax, colors=['b']):\n",
    "    ax.plot(x, vy, 'b', label=\"Validation Loss\")\n",
    "    ax.plot(x, ty, 'r', label=\"Train Loss\")\n",
    "    plt.legend()\n",
    "    plt.grid()\n",
    "    fig.canvas.draw()"
   ]
  },
  {
   "cell_type": "code",
   "execution_count": 182,
   "metadata": {
    "colab": {
     "base_uri": "https://localhost:8080/",
     "height": 367
    },
    "id": "X8QwR79wlbSu",
    "outputId": "b46d5d51-a9f8-4e4c-fc5a-9d76eb213153"
   },
   "outputs": [
    {
     "name": "stderr",
     "output_type": "stream",
     "text": [
      "/usr/local/lib/python3.7/dist-packages/tensorflow/python/data/ops/dataset_ops.py:4212: UserWarning: Even though the `tf.config.experimental_run_functions_eagerly` option is set, this option does not apply to tf.data functions. To force eager execution of tf.data functions, please use `tf.data.experimental.enable_debug_mode()`.\n",
      "  \"Even though the `tf.config.experimental_run_functions_eagerly` \"\n"
     ]
    },
    {
     "name": "stdout",
     "output_type": "stream",
     "text": [
      "Test score: 0.02813357301056385\n",
      "Test accuracy: 0.9902999997138977\n"
     ]
    },
    {
     "data": {
      "image/png": "[encoded data removed]",
      "text/plain": [
       "<Figure size 432x288 with 1 Axes>"
      ]
     },
     "metadata": {
      "needs_background": "light"
     },
     "output_type": "display_data"
    }
   ],
   "source": [
    "score = model1.evaluate(x_test, y_test, verbose=0) \n",
    "print('Test score:', score[0]) \n",
    "print('Test accuracy:', score[1])\n",
    "fig,ax = plt.subplots(1,1)\n",
    "ax.set_xlabel('epoch') ; ax.set_ylabel('Categorical Crossentropy Loss')\n",
    "\n",
    "\n",
    "# list of epoch numbers\n",
    "x = list(range(1,epochs+1))\n",
    "\n",
    "# print(history.history.keys())\n",
    "# dict_keys(['val_loss', 'val_acc', 'loss', 'acc'])\n",
    "# history = model_drop.fit(X_train, Y_train, batch_size=batch_size, epochs=nb_epoch, verbose=1, validation_data=(X_test, Y_test))\n",
    "\n",
    "# we will get val_loss and val_acc only when you pass the paramter validation_data\n",
    "# val_loss : validation loss\n",
    "# val_acc : validation accuracy\n",
    "\n",
    "# loss : training loss\n",
    "# acc : train accuracy\n",
    "# for each key in histrory.histrory we will have a list of length equal to number of epochs\n",
    "\n",
    "vy = history.history['val_loss']\n",
    "ty = history.history['loss']\n",
    "plt_dynamic(x, vy, ty, ax)"
   ]
  },
  {
   "cell_type": "markdown",
   "metadata": {
    "id": "sKj8Hw5upRSx"
   },
   "source": [
    "## 3.Architecture 2"
   ]
  },
  {
   "cell_type": "code",
   "execution_count": 183,
   "metadata": {
    "id": "RXIXMJylq3vG"
   },
   "outputs": [],
   "source": [
    "batch_size = 200\n",
    "num_classes = 10\n",
    "epochs = 10"
   ]
  },
  {
   "cell_type": "code",
   "execution_count": 192,
   "metadata": {
    "colab": {
     "base_uri": "https://localhost:8080/"
    },
    "id": "F-xSYvhZpn97",
    "outputId": "1479d8e9-1c99-47e6-f2b7-b104abd1ea5e"
   },
   "outputs": [
    {
     "name": "stdout",
     "output_type": "stream",
     "text": [
      "Model: \"sequential_10\"\n",
      "_________________________________________________________________\n",
      "Layer (type)                 Output Shape              Param #   \n",
      "=================================================================\n",
      "conv2d_37 (Conv2D)           (None, 28, 28, 5)         50        \n",
      "_________________________________________________________________\n",
      "max_pooling2d_15 (MaxPooling (None, 14, 14, 5)         0         \n",
      "_________________________________________________________________\n",
      "conv2d_38 (Conv2D)           (None, 14, 14, 10)        460       \n",
      "_________________________________________________________________\n",
      "max_pooling2d_16 (MaxPooling (None, 7, 7, 10)          0         \n",
      "_________________________________________________________________\n",
      "conv2d_39 (Conv2D)           (None, 7, 7, 5)           455       \n",
      "_________________________________________________________________\n",
      "max_pooling2d_17 (MaxPooling (None, 4, 4, 5)           0         \n",
      "_________________________________________________________________\n",
      "flatten_8 (Flatten)          (None, 80)                0         \n",
      "_________________________________________________________________\n",
      "module_wrapper_25 (ModuleWra (None, 100)               8100      \n",
      "_________________________________________________________________\n",
      "module_wrapper_26 (ModuleWra (None, 10)                1010      \n",
      "=================================================================\n",
      "Total params: 10,075\n",
      "Trainable params: 10,075\n",
      "Non-trainable params: 0\n",
      "_________________________________________________________________\n"
     ]
    }
   ],
   "source": [
    "model2 = Sequential()\n",
    "model2.add(Conv2D(filters=5, kernel_size=3, strides=1, padding='same', activation='relu', input_shape=input_shape))\n",
    "model2.add(MaxPooling2D(pool_size=2, strides=2, padding='same'))\n",
    "model1.add(Dropout(0.5))\n",
    "model2.add(Conv2D(filters=10, kernel_size=3, strides=1, padding='same', activation='relu'))\n",
    "model2.add(MaxPooling2D(pool_size=2, strides=2, padding='same'))\n",
    "model2.add(Conv2D(filters=5, kernel_size=3, strides=1, padding='same', activation='relu'))\n",
    "model2.add(MaxPooling2D(pool_size=2, strides=2, padding='same'))\n",
    "model1.add(BatchNormalization()) \n",
    "model1.add(Dropout(0.5))\n",
    "\n",
    "model2.add(Flatten())\n",
    "model2.add(Dense(100, activation='relu'))\n",
    "model2.add(Dense(10, activation='softmax'))\n",
    "model2.build()\n",
    "model2.summary()"
   ]
  },
  {
   "cell_type": "code",
   "execution_count": 195,
   "metadata": {
    "colab": {
     "base_uri": "https://localhost:8080/"
    },
    "id": "D_c_wox-pBNq",
    "outputId": "f52ba86e-f630-4330-8977-00ed19571043"
   },
   "outputs": [
    {
     "name": "stdout",
     "output_type": "stream",
     "text": [
      "Epoch 1/10\n",
      "  1/300 [..............................] - ETA: 37s - loss: 2.3208 - accuracy: 0.0850"
     ]
    },
    {
     "name": "stderr",
     "output_type": "stream",
     "text": [
      "/usr/local/lib/python3.7/dist-packages/tensorflow/python/data/ops/dataset_ops.py:4212: UserWarning: Even though the `tf.config.experimental_run_functions_eagerly` option is set, this option does not apply to tf.data functions. To force eager execution of tf.data functions, please use `tf.data.experimental.enable_debug_mode()`.\n",
      "  \"Even though the `tf.config.experimental_run_functions_eagerly` \"\n"
     ]
    },
    {
     "name": "stdout",
     "output_type": "stream",
     "text": [
      "300/300 [==============================] - 37s 123ms/step - loss: 0.6301 - accuracy: 0.8112 - val_loss: 0.2513 - val_accuracy: 0.9239\n",
      "Epoch 2/10\n",
      "300/300 [==============================] - 37s 122ms/step - loss: 0.2125 - accuracy: 0.9336 - val_loss: 0.1726 - val_accuracy: 0.9463\n",
      "Epoch 3/10\n",
      "300/300 [==============================] - 37s 122ms/step - loss: 0.1594 - accuracy: 0.9503 - val_loss: 0.1395 - val_accuracy: 0.9555\n",
      "Epoch 4/10\n",
      "300/300 [==============================] - 37s 122ms/step - loss: 0.1330 - accuracy: 0.9586 - val_loss: 0.1085 - val_accuracy: 0.9659\n",
      "Epoch 5/10\n",
      "300/300 [==============================] - 37s 122ms/step - loss: 0.1135 - accuracy: 0.9641 - val_loss: 0.1032 - val_accuracy: 0.9677\n",
      "Epoch 6/10\n",
      "300/300 [==============================] - 36s 120ms/step - loss: 0.0992 - accuracy: 0.9687 - val_loss: 0.0909 - val_accuracy: 0.9718\n",
      "Epoch 7/10\n",
      "300/300 [==============================] - 36s 121ms/step - loss: 0.0900 - accuracy: 0.9717 - val_loss: 0.0791 - val_accuracy: 0.9735\n",
      "Epoch 8/10\n",
      "300/300 [==============================] - 36s 121ms/step - loss: 0.0850 - accuracy: 0.9734 - val_loss: 0.0802 - val_accuracy: 0.9743\n",
      "Epoch 9/10\n",
      "300/300 [==============================] - 37s 123ms/step - loss: 0.0764 - accuracy: 0.9761 - val_loss: 0.0706 - val_accuracy: 0.9766\n",
      "Epoch 10/10\n",
      "300/300 [==============================] - 37s 124ms/step - loss: 0.0740 - accuracy: 0.9766 - val_loss: 0.0717 - val_accuracy: 0.9751\n"
     ]
    }
   ],
   "source": [
    "model2.compile(optimizer='adam', loss='categorical_crossentropy', metrics=['accuracy'])\n",
    "history = model2.fit(x_train, y_train, batch_size=batch_size, epochs=epochs, verbose=1, validation_data=(x_test, y_test))"
   ]
  },
  {
   "cell_type": "code",
   "execution_count": 196,
   "metadata": {
    "colab": {
     "base_uri": "https://localhost:8080/",
     "height": 367
    },
    "id": "WnLyPH2Vq0lv",
    "outputId": "9205740f-a58f-40c1-91a7-24cba21792fd"
   },
   "outputs": [
    {
     "name": "stderr",
     "output_type": "stream",
     "text": [
      "/usr/local/lib/python3.7/dist-packages/tensorflow/python/data/ops/dataset_ops.py:4212: UserWarning: Even though the `tf.config.experimental_run_functions_eagerly` option is set, this option does not apply to tf.data functions. To force eager execution of tf.data functions, please use `tf.data.experimental.enable_debug_mode()`.\n",
      "  \"Even though the `tf.config.experimental_run_functions_eagerly` \"\n"
     ]
    },
    {
     "name": "stdout",
     "output_type": "stream",
     "text": [
      "Test score: 0.07172030955553055\n",
      "Test accuracy: 0.9750999808311462\n"
     ]
    },
    {
     "data": {
      "image/png": "[encoded data removed]",
      "text/plain": [
       "<Figure size 432x288 with 1 Axes>"
      ]
     },
     "metadata": {
      "needs_background": "light"
     },
     "output_type": "display_data"
    }
   ],
   "source": [
    "score = model2.evaluate(x_test, y_test, verbose=0) \n",
    "print('Test score:', score[0]) \n",
    "print('Test accuracy:', score[1])\n",
    "\n",
    "fig,ax = plt.subplots(1,1)\n",
    "ax.set_xlabel('epoch') ; ax.set_ylabel('Categorical Crossentropy Loss')\n",
    "\n",
    "\n",
    "# list of epoch numbers\n",
    "x = list(range(1,epochs+1))\n",
    "\n",
    "# print(history.history.keys())\n",
    "# dict_keys(['val_loss', 'val_acc', 'loss', 'acc'])\n",
    "# history = model_drop.fit(X_train, Y_train, batch_size=batch_size, epochs=nb_epoch, verbose=1, validation_data=(X_test, Y_test))\n",
    "\n",
    "# we will get val_loss and val_acc only when you pass the paramter validation_data\n",
    "# val_loss : validation loss\n",
    "# val_acc : validation accuracy\n",
    "\n",
    "# loss : training loss\n",
    "# acc : train accuracy\n",
    "# for each key in histrory.histrory we will have a list of length equal to number of epochs\n",
    "\n",
    "vy = history.history['val_loss']\n",
    "ty = history.history['loss']\n",
    "plt_dynamic(x, vy, ty, ax)"
   ]
  },
  {
   "cell_type": "markdown",
   "metadata": {
    "id": "I1BTQ2-hrPf-"
   },
   "source": [
    "## 4.Architecture 3"
   ]
  },
  {
   "cell_type": "code",
   "execution_count": 221,
   "metadata": {
    "id": "hMstTDNB0Hv2"
   },
   "outputs": [],
   "source": [
    "batch_size = 200\n",
    "num_classes = 10\n",
    "epochs = 15"
   ]
  },
  {
   "cell_type": "code",
   "execution_count": 222,
   "metadata": {
    "colab": {
     "base_uri": "https://localhost:8080/"
    },
    "id": "1dL_kHAJ4uQ4",
    "outputId": "92618568-8c0c-47cd-b24e-6fbe2171bb23"
   },
   "outputs": [
    {
     "name": "stdout",
     "output_type": "stream",
     "text": [
      "Model: \"sequential_34\"\n",
      "_________________________________________________________________\n",
      "Layer (type)                 Output Shape              Param #   \n",
      "=================================================================\n",
      "conv2d_61 (Conv2D)           (None, 14, 14, 5)         50        \n",
      "_________________________________________________________________\n",
      "max_pooling2d_36 (MaxPooling (None, 7, 7, 5)           0         \n",
      "_________________________________________________________________\n",
      "dropout_24 (Dropout)         (None, 7, 7, 5)           0         \n",
      "_________________________________________________________________\n",
      "conv2d_62 (Conv2D)           (None, 4, 4, 10)          460       \n",
      "_________________________________________________________________\n",
      "max_pooling2d_37 (MaxPooling (None, 2, 2, 10)          0         \n",
      "_________________________________________________________________\n",
      "dropout_25 (Dropout)         (None, 2, 2, 10)          0         \n",
      "_________________________________________________________________\n",
      "conv2d_63 (Conv2D)           (None, 1, 1, 5)           455       \n",
      "_________________________________________________________________\n",
      "max_pooling2d_38 (MaxPooling (None, 1, 1, 5)           0         \n",
      "_________________________________________________________________\n",
      "module_wrapper_43 (ModuleWra (None, 1, 1, 5)           20        \n",
      "_________________________________________________________________\n",
      "dropout_26 (Dropout)         (None, 1, 1, 5)           0         \n",
      "_________________________________________________________________\n",
      "flatten_12 (Flatten)         (None, 5)                 0         \n",
      "_________________________________________________________________\n",
      "module_wrapper_44 (ModuleWra (None, 5)                 20        \n",
      "_________________________________________________________________\n",
      "dropout_27 (Dropout)         (None, 5)                 0         \n",
      "_________________________________________________________________\n",
      "module_wrapper_45 (ModuleWra (None, 100)               600       \n",
      "_________________________________________________________________\n",
      "module_wrapper_46 (ModuleWra (None, 10)                1010      \n",
      "=================================================================\n",
      "Total params: 2,615\n",
      "Trainable params: 2,595\n",
      "Non-trainable params: 20\n",
      "_________________________________________________________________\n"
     ]
    }
   ],
   "source": [
    "model3 = Sequential()\n",
    "model3.add(Conv2D(filters=5, kernel_size=3, strides=2, padding='same', activation='relu', input_shape=input_shape))\n",
    "model3.add(MaxPooling2D(pool_size=2, strides=2, padding='same'))\n",
    "model3.add(Dropout(0.5))\n",
    "model3.add(Conv2D(filters=10, kernel_size=3, strides=2, padding='same', activation='relu'))\n",
    "model3.add(MaxPooling2D(pool_size=2, strides=2, padding='same'))\n",
    "model3.add(Dropout(0.5))\n",
    "model3.add(Conv2D(filters=5, kernel_size=3, strides=2, padding='same', activation='relu'))\n",
    "model3.add(MaxPooling2D(pool_size=2, strides=2, padding='same'))\n",
    "model3.add(BatchNormalization()) \n",
    "model3.add(Dropout(0.5))\n",
    "\n",
    "model3.add(Flatten())\n",
    "model3.add(BatchNormalization()) \n",
    "model3.add(Dropout(0.5))\n",
    "model3.add(Dense(100, activation='relu'))\n",
    "model3.add(Dense(10, activation='softmax'))\n",
    "model3.build()\n",
    "model3.summary()"
   ]
  },
  {
   "cell_type": "code",
   "execution_count": 223,
   "metadata": {
    "colab": {
     "base_uri": "https://localhost:8080/"
    },
    "id": "4QlruGCXFJLG",
    "outputId": "43794547-b07c-49c8-b19d-374d6cf61ac0"
   },
   "outputs": [
    {
     "name": "stdout",
     "output_type": "stream",
     "text": [
      "Epoch 1/15\n",
      "  2/300 [..............................] - ETA: 14s - loss: 2.4454 - accuracy: 0.0950"
     ]
    },
    {
     "name": "stderr",
     "output_type": "stream",
     "text": [
      "/usr/local/lib/python3.7/dist-packages/tensorflow/python/data/ops/dataset_ops.py:4212: UserWarning: Even though the `tf.config.experimental_run_functions_eagerly` option is set, this option does not apply to tf.data functions. To force eager execution of tf.data functions, please use `tf.data.experimental.enable_debug_mode()`.\n",
      "  \"Even though the `tf.config.experimental_run_functions_eagerly` \"\n"
     ]
    },
    {
     "name": "stdout",
     "output_type": "stream",
     "text": [
      "300/300 [==============================] - 18s 59ms/step - loss: 2.2762 - accuracy: 0.1394 - val_loss: 2.1980 - val_accuracy: 0.2962\n",
      "Epoch 2/15\n",
      "300/300 [==============================] - 17s 57ms/step - loss: 2.1475 - accuracy: 0.1764 - val_loss: 1.8840 - val_accuracy: 0.3405\n",
      "Epoch 3/15\n",
      "300/300 [==============================] - 17s 57ms/step - loss: 2.0519 - accuracy: 0.1965 - val_loss: 1.7574 - val_accuracy: 0.4054\n",
      "Epoch 4/15\n",
      "300/300 [==============================] - 18s 58ms/step - loss: 1.9945 - accuracy: 0.2059 - val_loss: 1.6889 - val_accuracy: 0.3725\n",
      "Epoch 5/15\n",
      "300/300 [==============================] - 18s 58ms/step - loss: 1.9674 - accuracy: 0.2121 - val_loss: 1.6504 - val_accuracy: 0.3524\n",
      "Epoch 6/15\n",
      "300/300 [==============================] - 18s 59ms/step - loss: 1.9563 - accuracy: 0.2162 - val_loss: 1.6133 - val_accuracy: 0.3571\n",
      "Epoch 7/15\n",
      "300/300 [==============================] - 17s 57ms/step - loss: 1.9405 - accuracy: 0.2233 - val_loss: 1.6329 - val_accuracy: 0.4147\n",
      "Epoch 8/15\n",
      "300/300 [==============================] - 17s 57ms/step - loss: 1.9323 - accuracy: 0.2284 - val_loss: 1.6129 - val_accuracy: 0.4404\n",
      "Epoch 9/15\n",
      "300/300 [==============================] - 17s 56ms/step - loss: 1.9281 - accuracy: 0.2334 - val_loss: 1.6224 - val_accuracy: 0.4171\n",
      "Epoch 10/15\n",
      "300/300 [==============================] - 17s 57ms/step - loss: 1.9171 - accuracy: 0.2400 - val_loss: 1.6288 - val_accuracy: 0.3966\n",
      "Epoch 11/15\n",
      "300/300 [==============================] - 17s 57ms/step - loss: 1.9119 - accuracy: 0.2434 - val_loss: 1.6366 - val_accuracy: 0.3338\n",
      "Epoch 12/15\n",
      "300/300 [==============================] - 17s 57ms/step - loss: 1.9082 - accuracy: 0.2454 - val_loss: 1.6403 - val_accuracy: 0.3305\n",
      "Epoch 13/15\n",
      "300/300 [==============================] - 17s 57ms/step - loss: 1.9016 - accuracy: 0.2457 - val_loss: 1.6356 - val_accuracy: 0.3324\n",
      "Epoch 14/15\n",
      "300/300 [==============================] - 17s 58ms/step - loss: 1.8997 - accuracy: 0.2497 - val_loss: 1.6589 - val_accuracy: 0.2780\n",
      "Epoch 15/15\n",
      "300/300 [==============================] - 17s 57ms/step - loss: 1.8973 - accuracy: 0.2526 - val_loss: 1.6352 - val_accuracy: 0.3115\n"
     ]
    }
   ],
   "source": [
    "model3.compile(optimizer='adam', loss='categorical_crossentropy', metrics=['accuracy'])\n",
    "history = model3.fit(x_train, y_train, batch_size=batch_size, epochs=epochs, verbose=1, validation_data=(x_test, y_test))"
   ]
  },
  {
   "cell_type": "code",
   "execution_count": 225,
   "metadata": {
    "colab": {
     "base_uri": "https://localhost:8080/",
     "height": 369
    },
    "id": "nuhEk-h3FJPW",
    "outputId": "3b86d20e-af50-4a94-c2cd-988289d823a6"
   },
   "outputs": [
    {
     "name": "stderr",
     "output_type": "stream",
     "text": [
      "/usr/local/lib/python3.7/dist-packages/tensorflow/python/data/ops/dataset_ops.py:4212: UserWarning: Even though the `tf.config.experimental_run_functions_eagerly` option is set, this option does not apply to tf.data functions. To force eager execution of tf.data functions, please use `tf.data.experimental.enable_debug_mode()`.\n",
      "  \"Even though the `tf.config.experimental_run_functions_eagerly` \"\n"
     ]
    },
    {
     "name": "stdout",
     "output_type": "stream",
     "text": [
      "Test score: 1.6351990699768066\n",
      "Test accuracy: 0.31150001287460327\n"
     ]
    },
    {
     "data": {
      "image/png": "[encoded data removed]",
      "text/plain": [
       "<Figure size 432x288 with 1 Axes>"
      ]
     },
     "metadata": {
      "needs_background": "light"
     },
     "output_type": "display_data"
    }
   ],
   "source": [
    "score = model3.evaluate(x_test, y_test, verbose=0) \n",
    "print('Test score:', score[0]) \n",
    "print('Test accuracy:', score[1])\n",
    "\n",
    "fig,ax = plt.subplots(1,1)\n",
    "ax.set_xlabel('epoch') ; ax.set_ylabel('Categorical Crossentropy Loss')\n",
    "\n",
    "\n",
    "# list of epoch numbers\n",
    "x = list(range(1,epochs+1))\n",
    "\n",
    "# print(history.history.keys())\n",
    "# dict_keys(['val_loss', 'val_acc', 'loss', 'acc'])\n",
    "# history = model_drop.fit(X_train, Y_train, batch_size=batch_size, epochs=nb_epoch, verbose=1, validation_data=(X_test, Y_test))\n",
    "\n",
    "# we will get val_loss and val_acc only when you pass the paramter validation_data\n",
    "# val_loss : validation loss\n",
    "# val_acc : validation accuracy\n",
    "\n",
    "# loss : training loss\n",
    "# acc : train accuracy\n",
    "# for each key in histrory.histrory we will have a list of length equal to number of epochs\n",
    "\n",
    "vy = history.history['val_loss']\n",
    "ty = history.history['loss']\n",
    "plt_dynamic(x, vy, ty, ax)"
   ]
  },
  {
   "cell_type": "markdown",
   "metadata": {
    "id": "Wx5Fk7ASFhQh"
   },
   "source": [
    "## 5.Observation Table"
   ]
  },
  {
   "cell_type": "code",
   "execution_count": 230,
   "metadata": {
    "colab": {
     "base_uri": "https://localhost:8080/"
    },
    "id": "PCJbi2FCFJV9",
    "outputId": "22c69cef-ff1f-4236-cd8d-ff12bce8c426"
   },
   "outputs": [
    {
     "name": "stdout",
     "output_type": "stream",
     "text": [
      "+---------------------+--------+------------+---------------+\n",
      "| Architecture Number | epochs | Test Score | Test Accuracy |\n",
      "+---------------------+--------+------------+---------------+\n",
      "|    Architecture 1   |   12   |   0.028    |       99      |\n",
      "|    Architecture 2   |   10   |   0.071    |       97      |\n",
      "|    Architecture 3   |   15   |    1.63    |       31      |\n",
      "+---------------------+--------+------------+---------------+\n"
     ]
    }
   ],
   "source": [
    "from prettytable import PrettyTable\n",
    "x = PrettyTable()\n",
    "\n",
    "x = PrettyTable()\n",
    "x.field_names=[\"Architecture Number\", \"epochs\",\"Test Score\", \"Test Accuracy\" ]\n",
    "\n",
    "x.add_row([\"Architecture 1\", \"12\", \"0.028\",\"99\" ])\n",
    "\n",
    "x.add_row([\"Architecture 2\", \"10\", \"0.071\",\"97\" ])\n",
    "\n",
    "x.add_row([\"Architecture 3\", \"15\", \"1.63\",\"31\" ])\n",
    "\n",
    "\n",
    "print(x)"
   ]
  },
  {
   "cell_type": "markdown",
   "metadata": {
    "id": "MpP0-rNbJYj0"
   },
   "source": [
    "## 6.Observations:\n",
    "1.First two architecture gives good accuracy score.\n",
    "\n",
    "2.Third architecture gives poor prformance\n"
   ]
  }
 ],
 "metadata": {
  "colab": {
   "collapsed_sections": [],
   "name": "Assignment_CNN.ipynb",
   "provenance": []
  },
  "kernelspec": {
   "display_name": "Python 3",
   "language": "python",
   "name": "python3"
  },
  "language_info": {
   "codemirror_mode": {
    "name": "ipython",
    "version": 3
   },
   "file_extension": ".py",
   "mimetype": "text/x-python",
   "name": "python",
   "nbconvert_exporter": "python",
   "pygments_lexer": "ipython3",
   "version": "3.8.5"
  }
 },
 "nbformat": 4,
 "nbformat_minor": 1
}
